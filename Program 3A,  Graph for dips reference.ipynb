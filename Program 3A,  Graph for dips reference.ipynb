{
 "cells": [
  {
   "cell_type": "code",
   "execution_count": 1,
   "id": "84b17fc8",
   "metadata": {},
   "outputs": [],
   "source": [
    "import pandas as pd\n",
    "import matplotlib.pyplot as plt\n",
    "from matplotlib.markers import MarkerStyle\n",
    "import numpy as np\n",
    "import warnings\n",
    "import glob, os, shutil\n",
    "warnings.filterwarnings(\"ignore\")"
   ]
  },
  {
   "cell_type": "code",
   "execution_count": 2,
   "id": "9f910c79",
   "metadata": {},
   "outputs": [],
   "source": [
    "os.chdir('C:/Users/robin/Programs/Candy_Collect/Grant/Database/Dip_Data')"
   ]
  },
  {
   "cell_type": "code",
   "execution_count": 3,
   "id": "4f19ba5a",
   "metadata": {},
   "outputs": [],
   "source": [
    "df_dips = pd.read_csv('temp\\SBR_dips.csv')"
   ]
  },
  {
   "cell_type": "code",
   "execution_count": 4,
   "id": "dd3235ff",
   "metadata": {},
   "outputs": [
    {
     "data": {
      "text/html": [
       "<div>\n",
       "<style scoped>\n",
       "    .dataframe tbody tr th:only-of-type {\n",
       "        vertical-align: middle;\n",
       "    }\n",
       "\n",
       "    .dataframe tbody tr th {\n",
       "        vertical-align: top;\n",
       "    }\n",
       "\n",
       "    .dataframe thead th {\n",
       "        text-align: right;\n",
       "    }\n",
       "</style>\n",
       "<table border=\"1\" class=\"dataframe\">\n",
       "  <thead>\n",
       "    <tr style=\"text-align: right;\">\n",
       "      <th></th>\n",
       "      <th>ex1</th>\n",
       "      <th>ex2</th>\n",
       "      <th>ex3</th>\n",
       "      <th>ex4</th>\n",
       "      <th>ex5</th>\n",
       "    </tr>\n",
       "  </thead>\n",
       "  <tbody>\n",
       "    <tr>\n",
       "      <th>0</th>\n",
       "      <td>1.011766</td>\n",
       "      <td>1.020856</td>\n",
       "      <td>1.021494</td>\n",
       "      <td>1.006860</td>\n",
       "      <td>1.013893</td>\n",
       "    </tr>\n",
       "    <tr>\n",
       "      <th>1</th>\n",
       "      <td>1.135167</td>\n",
       "      <td>1.242562</td>\n",
       "      <td>1.108572</td>\n",
       "      <td>1.120134</td>\n",
       "      <td>1.271792</td>\n",
       "    </tr>\n",
       "  </tbody>\n",
       "</table>\n",
       "</div>"
      ],
      "text/plain": [
       "        ex1       ex2       ex3       ex4       ex5\n",
       "0  1.011766  1.020856  1.021494  1.006860  1.013893\n",
       "1  1.135167  1.242562  1.108572  1.120134  1.271792"
      ]
     },
     "execution_count": 4,
     "metadata": {},
     "output_type": "execute_result"
    }
   ],
   "source": [
    "df_dips"
   ]
  },
  {
   "cell_type": "code",
   "execution_count": 5,
   "id": "cfb494ff",
   "metadata": {},
   "outputs": [],
   "source": [
    "df_dips['avg'] = df_dips[['ex1', 'ex2', 'ex3', 'ex4', 'ex5']].mean(axis=1)\n",
    "df_dips['stnd'] = df_dips[['ex1', 'ex2', 'ex3', 'ex4', 'ex5']].std(axis=1)\n",
    "df_dips['err'] = df_dips['stnd']/(5**.5)\n",
    "df_dips['threshold'] = df_dips.avg[0] + 3*df_dips.stnd[0]\n",
    "df_dips['bacterial_load'] = [0, 1*10**6]"
   ]
  },
  {
   "cell_type": "code",
   "execution_count": 6,
   "id": "95e62902",
   "metadata": {},
   "outputs": [
    {
     "data": {
      "text/plain": [
       "ex1    1.135167\n",
       "ex2    1.242562\n",
       "ex3    1.108572\n",
       "ex4    1.120134\n",
       "ex5    1.271792\n",
       "Name: 1, dtype: float64"
      ]
     },
     "execution_count": 6,
     "metadata": {},
     "output_type": "execute_result"
    }
   ],
   "source": [
    "df_dips.iloc[1][0:5]"
   ]
  },
  {
   "cell_type": "code",
   "execution_count": 7,
   "id": "4b7b408e",
   "metadata": {},
   "outputs": [],
   "source": [
    "os.chdir('C:/Users/robin/Programs/Candy_Collect/Grant/Database/')"
   ]
  },
  {
   "cell_type": "code",
   "execution_count": 8,
   "id": "45c9fc12",
   "metadata": {},
   "outputs": [],
   "source": [
    "df_C = pd.read_csv('SBR_C.csv')"
   ]
  },
  {
   "cell_type": "code",
   "execution_count": 9,
   "id": "7bdb0460",
   "metadata": {},
   "outputs": [],
   "source": [
    "df_C['avg'] = df_C[['N1', 'N2', 'N3', 'N4']].mean(axis=1)\n",
    "df_C['stnd'] = df_C[['N1', 'N2', 'N3', 'N4']].std(axis=1)\n",
    "df_C['err'] = df_C['stnd']/2\n",
    "df_C['threshold'] = df_C.avg[0] + 3*df_C.stnd[0]\n",
    "df_C['bacterial_load'] = [0, 1*10**5, 1.5*10**5, 5*10**5, 1*10**6, 5*10**6, 1*10**7, 1*10**9]"
   ]
  },
  {
   "cell_type": "code",
   "execution_count": 10,
   "id": "2fdda7ba",
   "metadata": {},
   "outputs": [
    {
     "data": {
      "text/plain": [
       "N1    1.082572\n",
       "N2    1.094621\n",
       "N3    1.100004\n",
       "N4    1.125345\n",
       "Name: 4, dtype: float64"
      ]
     },
     "execution_count": 10,
     "metadata": {},
     "output_type": "execute_result"
    }
   ],
   "source": [
    "df_C.iloc[4][:4]"
   ]
  },
  {
   "cell_type": "code",
   "execution_count": 11,
   "id": "28333920",
   "metadata": {},
   "outputs": [
    {
     "data": {
      "text/plain": [
       "1.100635515994519"
      ]
     },
     "execution_count": 11,
     "metadata": {},
     "output_type": "execute_result"
    }
   ],
   "source": [
    "df_C.avg[4]"
   ]
  },
  {
   "cell_type": "code",
   "execution_count": 12,
   "id": "e42b005a",
   "metadata": {},
   "outputs": [],
   "source": [
    "df_K = pd.read_csv('SBR_K.csv')"
   ]
  },
  {
   "cell_type": "code",
   "execution_count": 13,
   "id": "7ae840f6",
   "metadata": {},
   "outputs": [],
   "source": [
    "df_K['avg'] = df_K[['N1', 'N2', 'N3', 'N4']].mean(axis=1)\n",
    "df_K['stnd'] = df_K[['N1', 'N2', 'N3', 'N4']].std(axis=1)\n",
    "df_K['err'] = df_K['stnd']/2\n",
    "df_K['threshold'] = df_K.avg[0] + 3*df_K.stnd[0]\n",
    "df_K['bacterial_load'] = [0, 1*10**5, 1.5*10**5, 5*10**5, 1*10**6, 5*10**6, 1*10**7, 1*10**9]"
   ]
  },
  {
   "cell_type": "code",
   "execution_count": 14,
   "id": "39888015",
   "metadata": {},
   "outputs": [
    {
     "data": {
      "image/png": "[encoded data removed]",
      "text/plain": [
       "<Figure size 640x480 with 1 Axes>"
      ]
     },
     "metadata": {},
     "output_type": "display_data"
    }
   ],
   "source": [
    "plt.bar(x = 'Manual Swab \\nRADT', y = df_dips.avg.iloc[1], height = -df_dips.avg.iloc[1], alpha = 0.2, label = 'Average Signal to Baseline Ratio')\n",
    "# plt.plot([-.4, .4], [df_dips.threshold[0], df_dips.threshold[1]], '--', label ='Postivity Threshold')\n",
    "plt.errorbar('Manual Swab \\nRADT', df_dips.avg.iloc[1], yerr=df_dips.stnd.iloc[1]/(5**.5), fmt=\"+\", color=\"k\", capsize = 4, label = 'Standard Error')\n",
    "plt.scatter(x = np.random.normal(0, 0.05, (5,)), y = df_dips.iloc[1][0:5], facecolors='none', color = 'k', label = 'Replicates')\n",
    "plt.plot([-.4, .4], [df_dips.threshold[0], df_dips.threshold[1]], '--', label ='Postivity Threshold')\n",
    "\n",
    "plt.bar(x = 'Manual \\nCandyCollect \\nRADT', y = df_C.avg.iloc[4], height = -df_dips.avg.iloc[1], alpha = 0.2)\n",
    "plt.plot([.6, 1.4], [df_C.threshold[0], df_C.threshold[0]], '--')\n",
    "plt.errorbar('Manual \\nCandyCollect \\nRADT', df_C.avg.iloc[4], yerr=df_C.stnd.iloc[4]/(4**.5), fmt=\"+\", color=\"k\", capsize = 4)\n",
    "plt.scatter(x = np.random.normal(1, 0.05, (4,)), y = df_C.iloc[4][:4], facecolors='none', color = 'k')\n",
    "\n",
    "plt.bar(x = 'Microfluidic \\nCandyCollect \\nRADT', y = df_K.avg.iloc[4], height = -df_dips.avg.iloc[1], alpha = 0.2)\n",
    "plt.plot([1.6, 2.4], [df_K.threshold[0], df_K.threshold[0]], '--')\n",
    "plt.errorbar('Microfluidic \\nCandyCollect \\nRADT', df_K.avg.iloc[4], yerr=df_K.stnd.iloc[4]/(4**.5), fmt=\"+\", color=\"k\", capsize = 4)\n",
    "plt.scatter(x = np.random.normal(2, 0.05, (4,)), y = df_K.iloc[4][:4], facecolors='none', color = 'k')\n",
    "\n",
    "plt.ylabel('Signal to Baseline Ratio\\n', fontsize = 14)\n",
    "plt.xlabel('\\nProtocol', fontsize = 14)\n",
    "plt.ylim(1, 1.3)\n",
    "plt.legend()\n",
    "plt.savefig('test.svg')"
   ]
  },
  {
   "cell_type": "code",
   "execution_count": 15,
   "id": "b91509c4",
   "metadata": {},
   "outputs": [
    {
     "data": {
      "text/html": [
       "<div>\n",
       "<style scoped>\n",
       "    .dataframe tbody tr th:only-of-type {\n",
       "        vertical-align: middle;\n",
       "    }\n",
       "\n",
       "    .dataframe tbody tr th {\n",
       "        vertical-align: top;\n",
       "    }\n",
       "\n",
       "    .dataframe thead th {\n",
       "        text-align: right;\n",
       "    }\n",
       "</style>\n",
       "<table border=\"1\" class=\"dataframe\">\n",
       "  <thead>\n",
       "    <tr style=\"text-align: right;\">\n",
       "      <th></th>\n",
       "      <th>N1</th>\n",
       "      <th>N2</th>\n",
       "      <th>N3</th>\n",
       "      <th>N4</th>\n",
       "      <th>avg</th>\n",
       "      <th>stnd</th>\n",
       "      <th>err</th>\n",
       "      <th>threshold</th>\n",
       "      <th>bacterial_load</th>\n",
       "    </tr>\n",
       "  </thead>\n",
       "  <tbody>\n",
       "    <tr>\n",
       "      <th>0</th>\n",
       "      <td>1.019125</td>\n",
       "      <td>1.009560</td>\n",
       "      <td>1.006170</td>\n",
       "      <td>1.013262</td>\n",
       "      <td>1.012029</td>\n",
       "      <td>0.005547</td>\n",
       "      <td>0.002773</td>\n",
       "      <td>1.028669</td>\n",
       "      <td>0.000000e+00</td>\n",
       "    </tr>\n",
       "    <tr>\n",
       "      <th>1</th>\n",
       "      <td>1.021403</td>\n",
       "      <td>1.021977</td>\n",
       "      <td>1.011886</td>\n",
       "      <td>1.048493</td>\n",
       "      <td>1.025940</td>\n",
       "      <td>0.015731</td>\n",
       "      <td>0.007866</td>\n",
       "      <td>1.028669</td>\n",
       "      <td>1.000000e+05</td>\n",
       "    </tr>\n",
       "    <tr>\n",
       "      <th>2</th>\n",
       "      <td>1.036018</td>\n",
       "      <td>1.048769</td>\n",
       "      <td>1.014381</td>\n",
       "      <td>1.030264</td>\n",
       "      <td>1.032358</td>\n",
       "      <td>0.014263</td>\n",
       "      <td>0.007131</td>\n",
       "      <td>1.028669</td>\n",
       "      <td>1.500000e+05</td>\n",
       "    </tr>\n",
       "    <tr>\n",
       "      <th>3</th>\n",
       "      <td>1.046402</td>\n",
       "      <td>1.082580</td>\n",
       "      <td>1.065127</td>\n",
       "      <td>1.115157</td>\n",
       "      <td>1.077316</td>\n",
       "      <td>0.029234</td>\n",
       "      <td>0.014617</td>\n",
       "      <td>1.028669</td>\n",
       "      <td>5.000000e+05</td>\n",
       "    </tr>\n",
       "    <tr>\n",
       "      <th>4</th>\n",
       "      <td>1.139720</td>\n",
       "      <td>1.152858</td>\n",
       "      <td>1.123884</td>\n",
       "      <td>1.116305</td>\n",
       "      <td>1.133192</td>\n",
       "      <td>0.016342</td>\n",
       "      <td>0.008171</td>\n",
       "      <td>1.028669</td>\n",
       "      <td>1.000000e+06</td>\n",
       "    </tr>\n",
       "    <tr>\n",
       "      <th>5</th>\n",
       "      <td>1.379373</td>\n",
       "      <td>1.346640</td>\n",
       "      <td>1.275544</td>\n",
       "      <td>1.474706</td>\n",
       "      <td>1.369066</td>\n",
       "      <td>0.082695</td>\n",
       "      <td>0.041347</td>\n",
       "      <td>1.028669</td>\n",
       "      <td>5.000000e+06</td>\n",
       "    </tr>\n",
       "    <tr>\n",
       "      <th>6</th>\n",
       "      <td>1.356132</td>\n",
       "      <td>1.314295</td>\n",
       "      <td>1.350125</td>\n",
       "      <td>1.380861</td>\n",
       "      <td>1.350353</td>\n",
       "      <td>0.027474</td>\n",
       "      <td>0.013737</td>\n",
       "      <td>1.028669</td>\n",
       "      <td>1.000000e+07</td>\n",
       "    </tr>\n",
       "    <tr>\n",
       "      <th>7</th>\n",
       "      <td>1.409385</td>\n",
       "      <td>1.414890</td>\n",
       "      <td>1.415028</td>\n",
       "      <td>1.305038</td>\n",
       "      <td>1.386085</td>\n",
       "      <td>0.054095</td>\n",
       "      <td>0.027048</td>\n",
       "      <td>1.028669</td>\n",
       "      <td>1.000000e+09</td>\n",
       "    </tr>\n",
       "  </tbody>\n",
       "</table>\n",
       "</div>"
      ],
      "text/plain": [
       "         N1        N2        N3        N4       avg      stnd       err  \\\n",
       "0  1.019125  1.009560  1.006170  1.013262  1.012029  0.005547  0.002773   \n",
       "1  1.021403  1.021977  1.011886  1.048493  1.025940  0.015731  0.007866   \n",
       "2  1.036018  1.048769  1.014381  1.030264  1.032358  0.014263  0.007131   \n",
       "3  1.046402  1.082580  1.065127  1.115157  1.077316  0.029234  0.014617   \n",
       "4  1.139720  1.152858  1.123884  1.116305  1.133192  0.016342  0.008171   \n",
       "5  1.379373  1.346640  1.275544  1.474706  1.369066  0.082695  0.041347   \n",
       "6  1.356132  1.314295  1.350125  1.380861  1.350353  0.027474  0.013737   \n",
       "7  1.409385  1.414890  1.415028  1.305038  1.386085  0.054095  0.027048   \n",
       "\n",
       "   threshold  bacterial_load  \n",
       "0   1.028669    0.000000e+00  \n",
       "1   1.028669    1.000000e+05  \n",
       "2   1.028669    1.500000e+05  \n",
       "3   1.028669    5.000000e+05  \n",
       "4   1.028669    1.000000e+06  \n",
       "5   1.028669    5.000000e+06  \n",
       "6   1.028669    1.000000e+07  \n",
       "7   1.028669    1.000000e+09  "
      ]
     },
     "execution_count": 15,
     "metadata": {},
     "output_type": "execute_result"
    }
   ],
   "source": [
    "df_K"
   ]
  },
  {
   "cell_type": "code",
   "execution_count": null,
   "id": "fb4539e1",
   "metadata": {},
   "outputs": [],
   "source": []
  }
 ],
 "metadata": {
  "kernelspec": {
   "display_name": "Python 3 (ipykernel)",
   "language": "python",
   "name": "python3"
  },
  "language_info": {
   "codemirror_mode": {
    "name": "ipython",
    "version": 3
   },
   "file_extension": ".py",
   "mimetype": "text/x-python",
   "name": "python",
   "nbconvert_exporter": "python",
   "pygments_lexer": "ipython3",
   "version": "3.8.16"
  }
 },
 "nbformat": 4,
 "nbformat_minor": 5
}
