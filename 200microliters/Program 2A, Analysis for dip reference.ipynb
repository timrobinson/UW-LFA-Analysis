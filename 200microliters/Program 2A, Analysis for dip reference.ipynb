{
 "cells": [
  {
   "cell_type": "code",
   "execution_count": 1,
   "id": "e2017316",
   "metadata": {},
   "outputs": [],
   "source": [
    "import cv2\n",
    "import matplotlib.pyplot as plt\n",
    "import numpy as np\n",
    "import pandas as pd\n",
    "import glob, os, shutil\n",
    "from skimage.feature import peak_local_max\n",
    "from scipy.signal import find_peaks, peak_widths\n",
    "from scipy.signal import savgol_filter\n",
    "from scipy.integrate import simpson\n",
    "from numpy import trapz"
   ]
  },
  {
   "cell_type": "code",
   "execution_count": 2,
   "id": "cb872557",
   "metadata": {},
   "outputs": [],
   "source": [
    "os.chdir('C:/Users/robin/Programs/Candy_Collect/Grant/Database/Dip_Data/')"
   ]
  },
  {
   "cell_type": "code",
   "execution_count": 3,
   "id": "fbac2d4f",
   "metadata": {},
   "outputs": [],
   "source": [
    "df = pd.read_pickle('temp\\df_dips.pickle')"
   ]
  },
  {
   "cell_type": "markdown",
   "id": "b930e858",
   "metadata": {},
   "source": [
    "## Restructures the 1D array back to the original 2D array, and then trims the perimeter to minimize edge effects"
   ]
  },
  {
   "cell_type": "code",
   "execution_count": 4,
   "id": "718506b0",
   "metadata": {},
   "outputs": [],
   "source": [
    "for i in range(len(df)):\n",
    "    df.dips_11_15[i] = df.dips_11_15[i][5:65, 10:260]\n",
    "    df.dips_11_1[i] = df.dips_11_1[i][5:65, 10:260]\n",
    "    df.dips_11_22[i] = df.dips_11_22[i][5:65, 10:260]\n",
    "    df.dips_8_3[i] = df.dips_8_3[i][5:65, 10:260]\n",
    "    df.dips_9_6[i] = df.dips_9_6[i][5:65, 10:260]    "
   ]
  },
  {
   "cell_type": "markdown",
   "id": "36c1512d",
   "metadata": {},
   "source": [
    "## Analysis"
   ]
  },
  {
   "cell_type": "code",
   "execution_count": 5,
   "id": "16156cd5",
   "metadata": {},
   "outputs": [],
   "source": [
    "def peak(img):\n",
    "    bw_smooth = savgol_filter(np.mean(img, axis=0), 5, 2)\n",
    "    peaks, _ = find_peaks(bw_smooth, distance=100)\n",
    "    return bw_smooth[peaks[0]], peaks[1]-peaks[0], bw_smooth, peaks"
   ]
  },
  {
   "cell_type": "code",
   "execution_count": 6,
   "id": "7935d66f",
   "metadata": {},
   "outputs": [],
   "source": [
    "# a, b, c, d = peak(df.N4[0])"
   ]
  },
  {
   "cell_type": "code",
   "execution_count": 7,
   "id": "927db1a1",
   "metadata": {},
   "outputs": [],
   "source": [
    "# plt.plot(c)\n",
    "# plt.plot([d[1] - (110+35), d[1] - (110+35)], [.35, .6])\n",
    "# plt.plot([d[1] - (110+45), d[1] - (110+45)], [.35, .6])\n",
    "# plt.plot([d[1] - [(110/2) + 15], d[1] - [(110/2) + 15]], [.35, .6])\n",
    "# plt.plot([d[1] - [(110/2) + 5], d[1] - [(110/2) + 5]], [.35, .6])\n",
    "# plt.plot([d[1] - 120, d[1] - 120], [.35, .6])\n",
    "# plt.plot([d[1] - 95, d[1] - 95], [.35, .6])\n",
    "# plt.grid()"
   ]
  },
  {
   "cell_type": "code",
   "execution_count": 8,
   "id": "207b011c",
   "metadata": {},
   "outputs": [],
   "source": [
    "# np.average(c[int(d[1] - (110+45)):int(d[1] - (110+35))])"
   ]
  },
  {
   "cell_type": "code",
   "execution_count": 9,
   "id": "f128c607",
   "metadata": {},
   "outputs": [],
   "source": [
    "# np.average(c[int(d[1] - [(110/2) + 15]):int(d[1] - [(110/2) + 5])])"
   ]
  },
  {
   "cell_type": "code",
   "execution_count": 10,
   "id": "02550bc5",
   "metadata": {},
   "outputs": [],
   "source": [
    "# np.amax(c[d[1] - 120:d[1] - 95])/np.average(c[int(d[1] - (110+45)):int(d[1] - (110+35))])"
   ]
  },
  {
   "cell_type": "code",
   "execution_count": 11,
   "id": "3fe5963d",
   "metadata": {},
   "outputs": [],
   "source": [
    "# 1.02 + 3*np.std([1.02, 1.01, 1.01, 1.01])"
   ]
  },
  {
   "cell_type": "code",
   "execution_count": 12,
   "id": "64e945a9",
   "metadata": {},
   "outputs": [],
   "source": [
    "ex1_SBR, ex2_SBR, ex3_SBR, ex4_SBR, ex5_SBR= [], [], [], [], []\n",
    "\n",
    "for i in range(len(df)):\n",
    "    a, b, c, d = peak(df.dips_8_3[i])\n",
    "    base_l = np.average(c[int(d[1] - (110+45)):int(d[1] - (110+35))])\n",
    "    base_r = np.average(c[int(d[1] - [(110/2) + 15]):int(d[1] - [(110/2) + 5])])\n",
    "    SBR_test_line = np.amax(c[d[1] - 120:d[1] - 95])/np.average([base_l, base_r])\n",
    "    ex1_SBR.append(SBR_test_line)\n",
    "    \n",
    "for i in range(len(df)):    \n",
    "    a, b, c, d = peak(df.dips_9_6[i])\n",
    "    base_l = np.average(c[int(d[1] - (110+45)):int(d[1] - (110+35))])\n",
    "    base_r = np.average(c[int(d[1] - [(110/2) + 15]):int(d[1] - [(110/2) + 5])])\n",
    "    SBR_test_line = np.amax(c[d[1] - 120:d[1] - 95])/np.average([base_l, base_r])\n",
    "    ex2_SBR.append(SBR_test_line)\n",
    "    \n",
    "for i in range(len(df)):    \n",
    "    a, b, c, d = peak(df.dips_11_1[i])\n",
    "    base_l = np.average(c[int(d[1] - (110+45)):int(d[1] - (110+35))])\n",
    "    base_r = np.average(c[int(d[1] - [(110/2) + 15]):int(d[1] - [(110/2) + 5])])\n",
    "    SBR_test_line = np.amax(c[d[1] - 120:d[1] - 95])/np.average([base_l, base_r])\n",
    "    ex3_SBR.append(SBR_test_line)\n",
    "    \n",
    "for i in range(len(df)):    \n",
    "    a, b, c, d = peak(df.dips_11_15[i])\n",
    "    base_l = np.average(c[int(d[1] - (110+45)):int(d[1] - (110+35))])\n",
    "    base_r = np.average(c[int(d[1] - [(110/2) + 15]):int(d[1] - [(110/2) + 5])])\n",
    "    SBR_test_line = np.amax(c[d[1] - 120:d[1] - 95])/np.average([base_l, base_r])\n",
    "    ex4_SBR.append(SBR_test_line)\n",
    "    \n",
    "for i in range(len(df)):    \n",
    "    a, b, c, d = peak(df.dips_11_22[i])\n",
    "    base_l = np.average(c[int(d[1] - (110+45)):int(d[1] - (110+35))])\n",
    "    base_r = np.average(c[int(d[1] - [(110/2) + 15]):int(d[1] - [(110/2) + 5])])\n",
    "    SBR_test_line = np.amax(c[d[1] - 120:d[1] - 95])/np.average([base_l, base_r])\n",
    "    ex5_SBR.append(SBR_test_line)"
   ]
  },
  {
   "cell_type": "code",
   "execution_count": 13,
   "id": "cd652fb4",
   "metadata": {},
   "outputs": [
    {
     "data": {
      "text/plain": [
       "1.0316452305136878"
      ]
     },
     "execution_count": 13,
     "metadata": {},
     "output_type": "execute_result"
    }
   ],
   "source": [
    "positivity_threshold = np.average([ex1_SBR[0], ex2_SBR[0], ex3_SBR[0], ex4_SBR[0], ex5_SBR[0]]) + 3*np.std([ex1_SBR[0], ex2_SBR[0], ex3_SBR[0], ex4_SBR[0], ex5_SBR[0]])\n",
    "positivity_threshold"
   ]
  },
  {
   "cell_type": "markdown",
   "id": "7ca73b19",
   "metadata": {},
   "source": [
    "## Creating a dataframe of results and saving as a csv file"
   ]
  },
  {
   "cell_type": "code",
   "execution_count": 14,
   "id": "5f5cf4c8",
   "metadata": {},
   "outputs": [],
   "source": [
    "df_dips = pd.DataFrame()"
   ]
  },
  {
   "cell_type": "code",
   "execution_count": 15,
   "id": "4ce5e20e",
   "metadata": {},
   "outputs": [],
   "source": [
    "df_dips['ex1'] = ex1_SBR\n",
    "df_dips['ex2'] = ex2_SBR\n",
    "df_dips['ex3'] = ex3_SBR\n",
    "df_dips['ex4'] = ex4_SBR\n",
    "df_dips['ex5'] = ex5_SBR"
   ]
  },
  {
   "cell_type": "code",
   "execution_count": 16,
   "id": "1998f28c",
   "metadata": {},
   "outputs": [
    {
     "data": {
      "text/html": [
       "<div>\n",
       "<style scoped>\n",
       "    .dataframe tbody tr th:only-of-type {\n",
       "        vertical-align: middle;\n",
       "    }\n",
       "\n",
       "    .dataframe tbody tr th {\n",
       "        vertical-align: top;\n",
       "    }\n",
       "\n",
       "    .dataframe thead th {\n",
       "        text-align: right;\n",
       "    }\n",
       "</style>\n",
       "<table border=\"1\" class=\"dataframe\">\n",
       "  <thead>\n",
       "    <tr style=\"text-align: right;\">\n",
       "      <th></th>\n",
       "      <th>ex1</th>\n",
       "      <th>ex2</th>\n",
       "      <th>ex3</th>\n",
       "      <th>ex4</th>\n",
       "      <th>ex5</th>\n",
       "    </tr>\n",
       "  </thead>\n",
       "  <tbody>\n",
       "    <tr>\n",
       "      <th>0</th>\n",
       "      <td>1.011766</td>\n",
       "      <td>1.020856</td>\n",
       "      <td>1.021494</td>\n",
       "      <td>1.006860</td>\n",
       "      <td>1.013893</td>\n",
       "    </tr>\n",
       "    <tr>\n",
       "      <th>1</th>\n",
       "      <td>1.135167</td>\n",
       "      <td>1.242562</td>\n",
       "      <td>1.108572</td>\n",
       "      <td>1.120134</td>\n",
       "      <td>1.271792</td>\n",
       "    </tr>\n",
       "  </tbody>\n",
       "</table>\n",
       "</div>"
      ],
      "text/plain": [
       "        ex1       ex2       ex3       ex4       ex5\n",
       "0  1.011766  1.020856  1.021494  1.006860  1.013893\n",
       "1  1.135167  1.242562  1.108572  1.120134  1.271792"
      ]
     },
     "execution_count": 16,
     "metadata": {},
     "output_type": "execute_result"
    }
   ],
   "source": [
    "df_dips"
   ]
  },
  {
   "cell_type": "code",
   "execution_count": 17,
   "id": "9c9930ea",
   "metadata": {},
   "outputs": [],
   "source": [
    "df_dips.to_csv('temp\\SBR_dips.csv', index=False)"
   ]
  },
  {
   "cell_type": "code",
   "execution_count": 18,
   "id": "4aa995bf",
   "metadata": {},
   "outputs": [],
   "source": [
    "test = pd.read_csv('temp\\SBR_dips.csv')"
   ]
  },
  {
   "cell_type": "code",
   "execution_count": 19,
   "id": "6605d846",
   "metadata": {},
   "outputs": [
    {
     "data": {
      "text/html": [
       "<div>\n",
       "<style scoped>\n",
       "    .dataframe tbody tr th:only-of-type {\n",
       "        vertical-align: middle;\n",
       "    }\n",
       "\n",
       "    .dataframe tbody tr th {\n",
       "        vertical-align: top;\n",
       "    }\n",
       "\n",
       "    .dataframe thead th {\n",
       "        text-align: right;\n",
       "    }\n",
       "</style>\n",
       "<table border=\"1\" class=\"dataframe\">\n",
       "  <thead>\n",
       "    <tr style=\"text-align: right;\">\n",
       "      <th></th>\n",
       "      <th>ex1</th>\n",
       "      <th>ex2</th>\n",
       "      <th>ex3</th>\n",
       "      <th>ex4</th>\n",
       "      <th>ex5</th>\n",
       "    </tr>\n",
       "  </thead>\n",
       "  <tbody>\n",
       "    <tr>\n",
       "      <th>0</th>\n",
       "      <td>1.011766</td>\n",
       "      <td>1.020856</td>\n",
       "      <td>1.021494</td>\n",
       "      <td>1.006860</td>\n",
       "      <td>1.013893</td>\n",
       "    </tr>\n",
       "    <tr>\n",
       "      <th>1</th>\n",
       "      <td>1.135167</td>\n",
       "      <td>1.242562</td>\n",
       "      <td>1.108572</td>\n",
       "      <td>1.120134</td>\n",
       "      <td>1.271792</td>\n",
       "    </tr>\n",
       "  </tbody>\n",
       "</table>\n",
       "</div>"
      ],
      "text/plain": [
       "        ex1       ex2       ex3       ex4       ex5\n",
       "0  1.011766  1.020856  1.021494  1.006860  1.013893\n",
       "1  1.135167  1.242562  1.108572  1.120134  1.271792"
      ]
     },
     "execution_count": 19,
     "metadata": {},
     "output_type": "execute_result"
    }
   ],
   "source": [
    "test"
   ]
  },
  {
   "cell_type": "code",
   "execution_count": 20,
   "id": "b2a701bf",
   "metadata": {},
   "outputs": [
    {
     "data": {
      "text/plain": [
       "1.0316452305136883"
      ]
     },
     "execution_count": 20,
     "metadata": {},
     "output_type": "execute_result"
    }
   ],
   "source": [
    "np.average(test.iloc[0].tolist()) + 3*np.std(test.iloc[0].tolist())"
   ]
  },
  {
   "cell_type": "code",
   "execution_count": null,
   "id": "6db4d510",
   "metadata": {},
   "outputs": [],
   "source": []
  }
 ],
 "metadata": {
  "kernelspec": {
   "display_name": "Python 3 (ipykernel)",
   "language": "python",
   "name": "python3"
  },
  "language_info": {
   "codemirror_mode": {
    "name": "ipython",
    "version": 3
   },
   "file_extension": ".py",
   "mimetype": "text/x-python",
   "name": "python",
   "nbconvert_exporter": "python",
   "pygments_lexer": "ipython3",
   "version": "3.8.16"
  }
 },
 "nbformat": 4,
 "nbformat_minor": 5
}
