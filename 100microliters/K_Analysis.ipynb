{
 "cells": [
  {
   "cell_type": "code",
   "execution_count": 1,
   "id": "a73b8838",
   "metadata": {},
   "outputs": [],
   "source": [
    "import cv2\n",
    "import matplotlib.pyplot as plt\n",
    "import numpy as np\n",
    "import pandas as pd\n",
    "import glob, os, shutil\n",
    "from skimage.feature import peak_local_max\n",
    "from scipy.signal import find_peaks, peak_widths\n",
    "from scipy.signal import savgol_filter\n",
    "from scipy.integrate import simpson\n",
    "from numpy import trapz"
   ]
  },
  {
   "cell_type": "code",
   "execution_count": 2,
   "id": "47e74c63",
   "metadata": {},
   "outputs": [],
   "source": [
    "df = pd.read_csv('k.csv')"
   ]
  },
  {
   "cell_type": "code",
   "execution_count": 3,
   "id": "d80e1591",
   "metadata": {},
   "outputs": [],
   "source": [
    "def reconstruct_array(row, column_name):\n",
    "    array_flat = np.fromstring(row[column_name], sep=',')\n",
    "    return array_flat"
   ]
  },
  {
   "cell_type": "code",
   "execution_count": 4,
   "id": "8f7a7294",
   "metadata": {},
   "outputs": [],
   "source": [
    "for col in ['N1', 'N2', 'N3']:\n",
    "    df[col] = df.apply(reconstruct_array, axis=1, column_name=col)"
   ]
  },
  {
   "cell_type": "code",
   "execution_count": 5,
   "id": "ab667908",
   "metadata": {},
   "outputs": [],
   "source": [
    "for i in range(len(df)):\n",
    "    df.N1[i] = df.N1[i].reshape((70, 270))\n",
    "    df.N2[i] = df.N2[i].reshape((70, 270))\n",
    "    df.N3[i] = df.N3[i].reshape((70, 270))"
   ]
  },
  {
   "cell_type": "code",
   "execution_count": 6,
   "id": "b99509d7",
   "metadata": {},
   "outputs": [],
   "source": [
    "for i in range(len(df)):\n",
    "    df.N1[i] = df.N1[i][5:65, 10:260]\n",
    "    df.N2[i] = df.N2[i][5:65, 10:260]\n",
    "    df.N3[i] = df.N3[i][5:65, 10:260]"
   ]
  },
  {
   "cell_type": "code",
   "execution_count": 7,
   "id": "e38da77e",
   "metadata": {},
   "outputs": [],
   "source": [
    "def peak(img):\n",
    "    bw_smooth = savgol_filter(np.mean(img, axis=0), 5, 2)\n",
    "    peaks, _ = find_peaks(bw_smooth, distance=100)\n",
    "    return bw_smooth[peaks[0]], peaks[1]-peaks[0], bw_smooth, peaks"
   ]
  },
  {
   "cell_type": "code",
   "execution_count": 8,
   "id": "3c1ed053",
   "metadata": {},
   "outputs": [],
   "source": [
    "a, b, c, d = peak(df.N3[5])"
   ]
  },
  {
   "cell_type": "code",
   "execution_count": 9,
   "id": "504bed6d",
   "metadata": {},
   "outputs": [
    {
     "data": {
      "image/png": "[encoded data removed]",
      "text/plain": [
       "<Figure size 640x480 with 1 Axes>"
      ]
     },
     "metadata": {},
     "output_type": "display_data"
    }
   ],
   "source": [
    "plt.plot(c)\n",
    "plt.plot([d[1] - (110+35), d[1] - (110+35)], [.35, .6])\n",
    "plt.plot([d[1] - (110+45), d[1] - (110+45)], [.35, .6])\n",
    "plt.plot([d[1] - [(110/2) + 15], d[1] - [(110/2) + 15]], [.35, .6])\n",
    "plt.plot([d[1] - [(110/2) + 5], d[1] - [(110/2) + 5]], [.35, .6])\n",
    "plt.plot([d[1] - 120, d[1] - 120], [.35, .6])\n",
    "plt.plot([d[1] - 95, d[1] - 95], [.35, .6])\n",
    "plt.grid()"
   ]
  },
  {
   "cell_type": "code",
   "execution_count": 10,
   "id": "7ef6903f",
   "metadata": {},
   "outputs": [],
   "source": [
    "N1_SBR, N2_SBR, N3_SBR = [], [], []\n",
    "\n",
    "for i in range(len(df)):\n",
    "    a, b, c, d = peak(df.N1[i])\n",
    "    base_l = np.average(c[int(d[1] - (110+45)):int(d[1] - (110+35))])\n",
    "    base_r = np.average(c[int(d[1] - [(110/2) + 15]):int(d[1] - [(110/2) + 5])])\n",
    "    SBR_test_line = np.amax(c[d[1] - 120:d[1] - 95])/np.average([base_l, base_r])\n",
    "    N1_SBR.append(SBR_test_line)\n",
    "    \n",
    "for i in range(len(df)):    \n",
    "    a, b, c, d = peak(df.N2[i])\n",
    "    base_l = np.average(c[int(d[1] - (110+45)):int(d[1] - (110+35))])\n",
    "    base_r = np.average(c[int(d[1] - [(110/2) + 15]):int(d[1] - [(110/2) + 5])])\n",
    "    SBR_test_line = np.amax(c[d[1] - 120:d[1] - 95])/np.average([base_l, base_r])\n",
    "    N2_SBR.append(SBR_test_line)\n",
    "    \n",
    "for i in range(len(df)):    \n",
    "    a, b, c, d = peak(df.N3[i])\n",
    "    base_l = np.average(c[int(d[1] - (110+45)):int(d[1] - (110+35))])\n",
    "    base_r = np.average(c[int(d[1] - [(110/2) + 15]):int(d[1] - [(110/2) + 5])])\n",
    "    SBR_test_line = np.amax(c[d[1] - 120:d[1] - 95])/np.average([base_l, base_r])\n",
    "    N3_SBR.append(SBR_test_line)\n",
    "    "
   ]
  },
  {
   "cell_type": "code",
   "execution_count": 11,
   "id": "b605a343",
   "metadata": {},
   "outputs": [
    {
     "data": {
      "text/plain": [
       "1.01474143986223"
      ]
     },
     "execution_count": 11,
     "metadata": {},
     "output_type": "execute_result"
    }
   ],
   "source": [
    "positivity_threshold = np.average([N1_SBR[0], N2_SBR[0], N3_SBR[0]]) + 3*np.std([N1_SBR[0], N2_SBR[0], N3_SBR[0]])\n",
    "positivity_threshold"
   ]
  },
  {
   "cell_type": "code",
   "execution_count": 12,
   "id": "4d938b08",
   "metadata": {},
   "outputs": [],
   "source": [
    "df_K = pd.DataFrame()"
   ]
  },
  {
   "cell_type": "code",
   "execution_count": 13,
   "id": "4466ef2d",
   "metadata": {},
   "outputs": [],
   "source": [
    "df_K['N1'] = N1_SBR\n",
    "df_K['N2'] = N2_SBR\n",
    "df_K['N3'] = N3_SBR"
   ]
  },
  {
   "cell_type": "code",
   "execution_count": 14,
   "id": "96f597a9",
   "metadata": {},
   "outputs": [
    {
     "data": {
      "text/html": [
       "<div>\n",
       "<style scoped>\n",
       "    .dataframe tbody tr th:only-of-type {\n",
       "        vertical-align: middle;\n",
       "    }\n",
       "\n",
       "    .dataframe tbody tr th {\n",
       "        vertical-align: top;\n",
       "    }\n",
       "\n",
       "    .dataframe thead th {\n",
       "        text-align: right;\n",
       "    }\n",
       "</style>\n",
       "<table border=\"1\" class=\"dataframe\">\n",
       "  <thead>\n",
       "    <tr style=\"text-align: right;\">\n",
       "      <th></th>\n",
       "      <th>N1</th>\n",
       "      <th>N2</th>\n",
       "      <th>N3</th>\n",
       "    </tr>\n",
       "  </thead>\n",
       "  <tbody>\n",
       "    <tr>\n",
       "      <th>0</th>\n",
       "      <td>1.009805</td>\n",
       "      <td>1.008222</td>\n",
       "      <td>1.012053</td>\n",
       "    </tr>\n",
       "    <tr>\n",
       "      <th>1</th>\n",
       "      <td>1.024677</td>\n",
       "      <td>1.041109</td>\n",
       "      <td>1.044224</td>\n",
       "    </tr>\n",
       "    <tr>\n",
       "      <th>2</th>\n",
       "      <td>1.036835</td>\n",
       "      <td>1.124618</td>\n",
       "      <td>1.050789</td>\n",
       "    </tr>\n",
       "    <tr>\n",
       "      <th>3</th>\n",
       "      <td>1.063234</td>\n",
       "      <td>1.121734</td>\n",
       "      <td>1.176720</td>\n",
       "    </tr>\n",
       "    <tr>\n",
       "      <th>4</th>\n",
       "      <td>1.178049</td>\n",
       "      <td>1.248832</td>\n",
       "      <td>1.194436</td>\n",
       "    </tr>\n",
       "    <tr>\n",
       "      <th>5</th>\n",
       "      <td>1.339000</td>\n",
       "      <td>1.351296</td>\n",
       "      <td>1.400405</td>\n",
       "    </tr>\n",
       "    <tr>\n",
       "      <th>6</th>\n",
       "      <td>1.412987</td>\n",
       "      <td>1.417616</td>\n",
       "      <td>1.438053</td>\n",
       "    </tr>\n",
       "    <tr>\n",
       "      <th>7</th>\n",
       "      <td>1.421313</td>\n",
       "      <td>1.387241</td>\n",
       "      <td>1.430754</td>\n",
       "    </tr>\n",
       "  </tbody>\n",
       "</table>\n",
       "</div>"
      ],
      "text/plain": [
       "         N1        N2        N3\n",
       "0  1.009805  1.008222  1.012053\n",
       "1  1.024677  1.041109  1.044224\n",
       "2  1.036835  1.124618  1.050789\n",
       "3  1.063234  1.121734  1.176720\n",
       "4  1.178049  1.248832  1.194436\n",
       "5  1.339000  1.351296  1.400405\n",
       "6  1.412987  1.417616  1.438053\n",
       "7  1.421313  1.387241  1.430754"
      ]
     },
     "execution_count": 14,
     "metadata": {},
     "output_type": "execute_result"
    }
   ],
   "source": [
    "df_K"
   ]
  },
  {
   "cell_type": "code",
   "execution_count": 15,
   "id": "14d73f65",
   "metadata": {},
   "outputs": [],
   "source": [
    "df_K.to_csv('SBR_K.csv', index=False)"
   ]
  },
  {
   "cell_type": "code",
   "execution_count": null,
   "id": "7a30b51b",
   "metadata": {},
   "outputs": [],
   "source": []
  }
 ],
 "metadata": {
  "kernelspec": {
   "display_name": "Python 3 (ipykernel)",
   "language": "python",
   "name": "python3"
  },
  "language_info": {
   "codemirror_mode": {
    "name": "ipython",
    "version": 3
   },
   "file_extension": ".py",
   "mimetype": "text/x-python",
   "name": "python",
   "nbconvert_exporter": "python",
   "pygments_lexer": "ipython3",
   "version": "3.8.16"
  }
 },
 "nbformat": 4,
 "nbformat_minor": 5
}
